{
 "cells": [
  {
   "cell_type": "markdown",
   "metadata": {},
   "source": [
    "<center><b><h1> Twitter Sentiment Analysis </h1></b></center>"
   ]
  },
  {
   "cell_type": "code",
   "execution_count": 41,
   "metadata": {},
   "outputs": [
    {
     "data": {
      "text/html": [
       "        <script type=\"text/javascript\">\n",
       "        window.PlotlyConfig = {MathJaxConfig: 'local'};\n",
       "        if (window.MathJax && window.MathJax.Hub && window.MathJax.Hub.Config) {window.MathJax.Hub.Config({SVG: {font: \"STIX-Web\"}});}\n",
       "        if (typeof require !== 'undefined') {\n",
       "        require.undef(\"plotly\");\n",
       "        requirejs.config({\n",
       "            paths: {\n",
       "                'plotly': ['https://cdn.plot.ly/plotly-2.12.1.min']\n",
       "            }\n",
       "        });\n",
       "        require(['plotly'], function(Plotly) {\n",
       "            window._Plotly = Plotly;\n",
       "        });\n",
       "        }\n",
       "        </script>\n",
       "        "
      ]
     },
     "metadata": {},
     "output_type": "display_data"
    },
    {
     "data": {
      "text/html": [
       "        <script type=\"text/javascript\">\n",
       "        window.PlotlyConfig = {MathJaxConfig: 'local'};\n",
       "        if (window.MathJax && window.MathJax.Hub && window.MathJax.Hub.Config) {window.MathJax.Hub.Config({SVG: {font: \"STIX-Web\"}});}\n",
       "        if (typeof require !== 'undefined') {\n",
       "        require.undef(\"plotly\");\n",
       "        requirejs.config({\n",
       "            paths: {\n",
       "                'plotly': ['https://cdn.plot.ly/plotly-2.12.1.min']\n",
       "            }\n",
       "        });\n",
       "        require(['plotly'], function(Plotly) {\n",
       "            window._Plotly = Plotly;\n",
       "        });\n",
       "        }\n",
       "        </script>\n",
       "        "
      ]
     },
     "metadata": {},
     "output_type": "display_data"
    },
    {
     "name": "stderr",
     "output_type": "stream",
     "text": [
      "[nltk_data] Downloading package punkt to\n",
      "[nltk_data]     C:\\Users\\ASUS\\AppData\\Roaming\\nltk_data...\n",
      "[nltk_data]   Package punkt is already up-to-date!\n",
      "[nltk_data] Downloading package averaged_perceptron_tagger to\n",
      "[nltk_data]     C:\\Users\\ASUS\\AppData\\Roaming\\nltk_data...\n",
      "[nltk_data]   Package averaged_perceptron_tagger is already up-to-\n",
      "[nltk_data]       date!\n",
      "[nltk_data] Downloading package tagsets to\n",
      "[nltk_data]     C:\\Users\\ASUS\\AppData\\Roaming\\nltk_data...\n",
      "[nltk_data]   Package tagsets is already up-to-date!\n"
     ]
    }
   ],
   "source": [
    "#import neccessary libraries\n",
    "\n",
    "import pandas as pd\n",
    "import numpy as np\n",
    "import matplotlib.pyplot as plt\n",
    "import seaborn as sns\n",
    "import re\n",
    "\n",
    "import plotly as py\n",
    "import cufflinks as cf\n",
    "\n",
    "from plotly.offline import iplot\n",
    "py.offline.init_notebook_mode(connected = True)\n",
    "cf.go_offline()\n",
    "\n",
    "from sklearn.feature_extraction.text import CountVectorizer\n",
    "import nltk\n",
    "nltk.download('punkt')\n",
    "nltk.download('averaged_perceptron_tagger')\n",
    "nltk.download('tagsets')\n",
    "\n",
    "from wordcloud import WordCloud, STOPWORDS\n",
    "import pickle\n",
    "import time\n",
    "\n",
    "from sklearn.model_selection import train_test_split\n",
    "from sklearn.feature_extraction.text import TfidfVectorizer\n",
    "from sklearn import metrics\n",
    "\n",
    "from sklearn.naive_bayes import GaussianNB\n",
    "from sklearn.svm import SVC\n",
    "from sklearn.linear_model import LogisticRegression\n",
    "from sklearn.tree import DecisionTreeClassifier\n",
    "from sklearn.ensemble import RandomForestClassifier\n",
    "\n",
    "from sklearn import preprocessing\n",
    "import xgboost as xgb\n",
    "from sklearn.ensemble import VotingClassifier\n",
    "\n",
    "import spacy\n",
    "import en_core_web_lg\n",
    "nlp = en_core_web_lg.load()\n",
    "from spacy.lang.en.stop_words import STOP_WORDS\n",
    "from bs4 import BeautifulSoup\n",
    "\n",
    "import warnings\n",
    "warnings.filterwarnings('ignore')"
   ]
  },
  {
   "cell_type": "code",
   "execution_count": 42,
   "metadata": {},
   "outputs": [],
   "source": [
    "df = pd.read_csv(\"C:/Users/ASUS/Downloads/CoronaTweetsSentimentAnalysis.csv\")"
   ]
  },
  {
   "cell_type": "code",
   "execution_count": 43,
   "metadata": {},
   "outputs": [
    {
     "data": {
      "text/html": [
       "<div>\n",
       "<style scoped>\n",
       "    .dataframe tbody tr th:only-of-type {\n",
       "        vertical-align: middle;\n",
       "    }\n",
       "\n",
       "    .dataframe tbody tr th {\n",
       "        vertical-align: top;\n",
       "    }\n",
       "\n",
       "    .dataframe thead th {\n",
       "        text-align: right;\n",
       "    }\n",
       "</style>\n",
       "<table border=\"1\" class=\"dataframe\">\n",
       "  <thead>\n",
       "    <tr style=\"text-align: right;\">\n",
       "      <th></th>\n",
       "      <th>UserName</th>\n",
       "      <th>ScreenName</th>\n",
       "      <th>Location</th>\n",
       "      <th>TweetAt</th>\n",
       "      <th>OriginalTweet</th>\n",
       "      <th>Sentiment</th>\n",
       "    </tr>\n",
       "  </thead>\n",
       "  <tbody>\n",
       "    <tr>\n",
       "      <th>0</th>\n",
       "      <td>1</td>\n",
       "      <td>44954</td>\n",
       "      <td>Seattle, WA</td>\n",
       "      <td>02-03-2020</td>\n",
       "      <td>When I couldn't find hand sanitizer at Fred Me...</td>\n",
       "      <td>Positive</td>\n",
       "    </tr>\n",
       "    <tr>\n",
       "      <th>1</th>\n",
       "      <td>2</td>\n",
       "      <td>44956</td>\n",
       "      <td>Chicagoland</td>\n",
       "      <td>02-03-2020</td>\n",
       "      <td>#Panic buying hits #NewYork City as anxious sh...</td>\n",
       "      <td>Negative</td>\n",
       "    </tr>\n",
       "    <tr>\n",
       "      <th>2</th>\n",
       "      <td>3</td>\n",
       "      <td>44959</td>\n",
       "      <td>NaN</td>\n",
       "      <td>03-03-2020</td>\n",
       "      <td>Voting in the age of #coronavirus = hand sanit...</td>\n",
       "      <td>Positive</td>\n",
       "    </tr>\n",
       "    <tr>\n",
       "      <th>3</th>\n",
       "      <td>4</td>\n",
       "      <td>44963</td>\n",
       "      <td>Boksburg, South Africa</td>\n",
       "      <td>04-03-2020</td>\n",
       "      <td>Best quality couches at unbelievably low price...</td>\n",
       "      <td>Positive</td>\n",
       "    </tr>\n",
       "    <tr>\n",
       "      <th>4</th>\n",
       "      <td>5</td>\n",
       "      <td>44967</td>\n",
       "      <td>Washington, DC</td>\n",
       "      <td>04-03-2020</td>\n",
       "      <td>While we were busy watching election returns a...</td>\n",
       "      <td>Positive</td>\n",
       "    </tr>\n",
       "  </tbody>\n",
       "</table>\n",
       "</div>"
      ],
      "text/plain": [
       "   UserName  ScreenName                Location     TweetAt  \\\n",
       "0         1       44954             Seattle, WA  02-03-2020   \n",
       "1         2       44956             Chicagoland  02-03-2020   \n",
       "2         3       44959                     NaN  03-03-2020   \n",
       "3         4       44963  Boksburg, South Africa  04-03-2020   \n",
       "4         5       44967          Washington, DC  04-03-2020   \n",
       "\n",
       "                                       OriginalTweet Sentiment  \n",
       "0  When I couldn't find hand sanitizer at Fred Me...  Positive  \n",
       "1  #Panic buying hits #NewYork City as anxious sh...  Negative  \n",
       "2  Voting in the age of #coronavirus = hand sanit...  Positive  \n",
       "3  Best quality couches at unbelievably low price...  Positive  \n",
       "4  While we were busy watching election returns a...  Positive  "
      ]
     },
     "execution_count": 43,
     "metadata": {},
     "output_type": "execute_result"
    }
   ],
   "source": [
    "df.head()"
   ]
  },
  {
   "cell_type": "code",
   "execution_count": 44,
   "metadata": {},
   "outputs": [
    {
     "name": "stdout",
     "output_type": "stream",
     "text": [
      "(1988, 6)\n",
      "UserName           0\n",
      "ScreenName         0\n",
      "Location         452\n",
      "TweetAt            0\n",
      "OriginalTweet      0\n",
      "Sentiment          0\n",
      "dtype: int64\n"
     ]
    }
   ],
   "source": [
    "#Look at shape of the data\n",
    "print(df.shape)\n",
    "#How many values are null in each columns\n",
    "print(df.isnull().sum())"
   ]
  },
  {
   "cell_type": "code",
   "execution_count": 45,
   "metadata": {},
   "outputs": [
    {
     "data": {
      "text/plain": [
       "Negative    1041\n",
       "Positive     947\n",
       "Name: Sentiment, dtype: int64"
      ]
     },
     "execution_count": 45,
     "metadata": {},
     "output_type": "execute_result"
    }
   ],
   "source": [
    "#Label values\n",
    "df['Sentiment'].value_counts()"
   ]
  },
  {
   "cell_type": "code",
   "execution_count": 46,
   "metadata": {},
   "outputs": [
    {
     "data": {
      "text/html": [
       "<div>\n",
       "<style scoped>\n",
       "    .dataframe tbody tr th:only-of-type {\n",
       "        vertical-align: middle;\n",
       "    }\n",
       "\n",
       "    .dataframe tbody tr th {\n",
       "        vertical-align: top;\n",
       "    }\n",
       "\n",
       "    .dataframe thead th {\n",
       "        text-align: right;\n",
       "    }\n",
       "</style>\n",
       "<table border=\"1\" class=\"dataframe\">\n",
       "  <thead>\n",
       "    <tr style=\"text-align: right;\">\n",
       "      <th></th>\n",
       "      <th>Sentiment</th>\n",
       "      <th>Tweet</th>\n",
       "    </tr>\n",
       "  </thead>\n",
       "  <tbody>\n",
       "    <tr>\n",
       "      <th>0</th>\n",
       "      <td>Positive</td>\n",
       "      <td>When I couldn't find hand sanitizer at Fred Me...</td>\n",
       "    </tr>\n",
       "    <tr>\n",
       "      <th>1</th>\n",
       "      <td>Negative</td>\n",
       "      <td>#Panic buying hits #NewYork City as anxious sh...</td>\n",
       "    </tr>\n",
       "    <tr>\n",
       "      <th>2</th>\n",
       "      <td>Positive</td>\n",
       "      <td>Voting in the age of #coronavirus = hand sanit...</td>\n",
       "    </tr>\n",
       "    <tr>\n",
       "      <th>3</th>\n",
       "      <td>Positive</td>\n",
       "      <td>Best quality couches at unbelievably low price...</td>\n",
       "    </tr>\n",
       "    <tr>\n",
       "      <th>4</th>\n",
       "      <td>Positive</td>\n",
       "      <td>While we were busy watching election returns a...</td>\n",
       "    </tr>\n",
       "  </tbody>\n",
       "</table>\n",
       "</div>"
      ],
      "text/plain": [
       "  Sentiment                                              Tweet\n",
       "0  Positive  When I couldn't find hand sanitizer at Fred Me...\n",
       "1  Negative  #Panic buying hits #NewYork City as anxious sh...\n",
       "2  Positive  Voting in the age of #coronavirus = hand sanit...\n",
       "3  Positive  Best quality couches at unbelievably low price...\n",
       "4  Positive  While we were busy watching election returns a..."
      ]
     },
     "execution_count": 46,
     "metadata": {},
     "output_type": "execute_result"
    }
   ],
   "source": [
    "df['Tweet'] = pd.Series(df[['OriginalTweet','Location']].fillna('').values.tolist()).str.join(' ')\n",
    "df.drop(['UserName','ScreenName','TweetAt','OriginalTweet','Location'],axis = 1, inplace = True)\n",
    "df.head()"
   ]
  },
  {
   "cell_type": "code",
   "execution_count": 47,
   "metadata": {},
   "outputs": [
    {
     "data": {
      "text/plain": [
       "'Best quality couches at unbelievably low prices available to order.\\r\\r\\n\\r\\r\\nWe are in Boksburg GP \\r\\r\\n\\r\\r\\nFor more info WhatsApp:\\r\\r\\n084 764 8086\\r\\r\\n\\r\\r\\n#SuperTuesdsy #PowerTalk \\r\\r\\n#Covid_19 #SayEntrepreneur \\r\\r\\n#DJSBU https://t.co/HhDJhyQ2Dc Boksburg, South Africa'"
      ]
     },
     "execution_count": 47,
     "metadata": {},
     "output_type": "execute_result"
    }
   ],
   "source": [
    "df['Tweet'][3]"
   ]
  },
  {
   "cell_type": "code",
   "execution_count": 48,
   "metadata": {},
   "outputs": [],
   "source": [
    "df1 = df[['Tweet','Sentiment']]"
   ]
  },
  {
   "cell_type": "code",
   "execution_count": 49,
   "metadata": {},
   "outputs": [],
   "source": [
    "def get_avg_word_len(x):\n",
    "    words = x.split()\n",
    "    word_len = 0\n",
    "    for word in words:\n",
    "        word_len = word_len + len(word)\n",
    "    return word_len/len(words)"
   ]
  },
  {
   "cell_type": "code",
   "execution_count": 50,
   "metadata": {},
   "outputs": [],
   "source": [
    "df1['text_len'] = df1['Tweet'].apply(lambda x: len(x))\n",
    "df1['word_count'] = df1['Tweet'].apply(lambda x: len(x.split()))\n",
    "df1['avg_word_len'] = df1['Tweet'].apply(lambda x: get_avg_word_len(x))"
   ]
  },
  {
   "cell_type": "code",
   "execution_count": 51,
   "metadata": {},
   "outputs": [
    {
     "data": {
      "text/html": [
       "<div>\n",
       "<style scoped>\n",
       "    .dataframe tbody tr th:only-of-type {\n",
       "        vertical-align: middle;\n",
       "    }\n",
       "\n",
       "    .dataframe tbody tr th {\n",
       "        vertical-align: top;\n",
       "    }\n",
       "\n",
       "    .dataframe thead th {\n",
       "        text-align: right;\n",
       "    }\n",
       "</style>\n",
       "<table border=\"1\" class=\"dataframe\">\n",
       "  <thead>\n",
       "    <tr style=\"text-align: right;\">\n",
       "      <th></th>\n",
       "      <th>Tweet</th>\n",
       "      <th>Sentiment</th>\n",
       "      <th>text_len</th>\n",
       "      <th>word_count</th>\n",
       "      <th>avg_word_len</th>\n",
       "    </tr>\n",
       "  </thead>\n",
       "  <tbody>\n",
       "    <tr>\n",
       "      <th>0</th>\n",
       "      <td>When I couldn't find hand sanitizer at Fred Me...</td>\n",
       "      <td>Positive</td>\n",
       "      <td>205</td>\n",
       "      <td>32</td>\n",
       "      <td>5.406250</td>\n",
       "    </tr>\n",
       "    <tr>\n",
       "      <th>1</th>\n",
       "      <td>#Panic buying hits #NewYork City as anxious sh...</td>\n",
       "      <td>Negative</td>\n",
       "      <td>330</td>\n",
       "      <td>38</td>\n",
       "      <td>7.368421</td>\n",
       "    </tr>\n",
       "    <tr>\n",
       "      <th>2</th>\n",
       "      <td>Voting in the age of #coronavirus = hand sanit...</td>\n",
       "      <td>Positive</td>\n",
       "      <td>91</td>\n",
       "      <td>12</td>\n",
       "      <td>6.583333</td>\n",
       "    </tr>\n",
       "    <tr>\n",
       "      <th>3</th>\n",
       "      <td>Best quality couches at unbelievably low price...</td>\n",
       "      <td>Positive</td>\n",
       "      <td>256</td>\n",
       "      <td>31</td>\n",
       "      <td>6.516129</td>\n",
       "    </tr>\n",
       "    <tr>\n",
       "      <th>4</th>\n",
       "      <td>While we were busy watching election returns a...</td>\n",
       "      <td>Positive</td>\n",
       "      <td>212</td>\n",
       "      <td>28</td>\n",
       "      <td>6.607143</td>\n",
       "    </tr>\n",
       "  </tbody>\n",
       "</table>\n",
       "</div>"
      ],
      "text/plain": [
       "                                               Tweet Sentiment  text_len  \\\n",
       "0  When I couldn't find hand sanitizer at Fred Me...  Positive       205   \n",
       "1  #Panic buying hits #NewYork City as anxious sh...  Negative       330   \n",
       "2  Voting in the age of #coronavirus = hand sanit...  Positive        91   \n",
       "3  Best quality couches at unbelievably low price...  Positive       256   \n",
       "4  While we were busy watching election returns a...  Positive       212   \n",
       "\n",
       "   word_count  avg_word_len  \n",
       "0          32      5.406250  \n",
       "1          38      7.368421  \n",
       "2          12      6.583333  \n",
       "3          31      6.516129  \n",
       "4          28      6.607143  "
      ]
     },
     "execution_count": 51,
     "metadata": {},
     "output_type": "execute_result"
    }
   ],
   "source": [
    "df1.head()"
   ]
  },
  {
   "cell_type": "markdown",
   "metadata": {},
   "source": [
    "## Exploratory data analysis"
   ]
  },
  {
   "cell_type": "markdown",
   "metadata": {},
   "source": [
    "### Distribution of Questions based on Quality"
   ]
  },
  {
   "cell_type": "code",
   "execution_count": 52,
   "metadata": {},
   "outputs": [
    {
     "data": {
      "text/plain": [
       "Text(0, 0.5, 'Count')"
      ]
     },
     "execution_count": 52,
     "metadata": {},
     "output_type": "execute_result"
    },
    {
     "data": {
      "image/png": "[encoded data removed]",
      "text/plain": [
       "<Figure size 1008x576 with 1 Axes>"
      ]
     },
     "metadata": {
      "needs_background": "light"
     },
     "output_type": "display_data"
    }
   ],
   "source": [
    "ax = df1['Sentiment'].value_counts().plot(kind='bar',\n",
    "                                    figsize=(14,8),\n",
    "                                    title=\"Distribution of Tweets based on Sentiment\")\n",
    "ax.set_xlabel(\"Sentiment\")\n",
    "ax.set_ylabel(\"Count\")"
   ]
  },
  {
   "cell_type": "markdown",
   "metadata": {},
   "source": [
    "### Distrubution of Question length"
   ]
  },
  {
   "cell_type": "code",
   "execution_count": 53,
   "metadata": {},
   "outputs": [
    {
     "data": {
      "text/plain": [
       "Text(0, 0.5, 'Count')"
      ]
     },
     "execution_count": 53,
     "metadata": {},
     "output_type": "execute_result"
    },
    {
     "data": {
      "image/png": "[encoded data removed]",
      "text/plain": [
       "<Figure size 1008x576 with 1 Axes>"
      ]
     },
     "metadata": {
      "needs_background": "light"
     },
     "output_type": "display_data"
    }
   ],
   "source": [
    "\n",
    "ax = df1['text_len'].value_counts().plot(kind='hist',\n",
    "                                    figsize=(14,8),\n",
    "                                    title=\"Distribution of Question length\")\n",
    "ax.set_xlabel(\"Question length\")\n",
    "ax.set_ylabel(\"Count\")"
   ]
  },
  {
   "cell_type": "markdown",
   "metadata": {},
   "source": [
    "### Distribution of No.of words in a Question"
   ]
  },
  {
   "cell_type": "code",
   "execution_count": 54,
   "metadata": {},
   "outputs": [
    {
     "data": {
      "text/plain": [
       "Text(0, 0.5, 'Count')"
      ]
     },
     "execution_count": 54,
     "metadata": {},
     "output_type": "execute_result"
    },
    {
     "data": {
      "image/png": "[encoded data removed]",
      "text/plain": [
       "<Figure size 1008x576 with 1 Axes>"
      ]
     },
     "metadata": {
      "needs_background": "light"
     },
     "output_type": "display_data"
    }
   ],
   "source": [
    "\n",
    "ax = df1['word_count'].value_counts().plot(kind='hist',\n",
    "                                    figsize=(14,8),\n",
    "                                    title=\"Distribution of no.of words in a Tweet\")\n",
    "ax.set_xlabel(\"No.of words in a Tweet\")\n",
    "ax.set_ylabel(\"Count\")"
   ]
  },
  {
   "cell_type": "markdown",
   "metadata": {},
   "source": [
    "### Distribution of Average word length in Questions"
   ]
  },
  {
   "cell_type": "code",
   "execution_count": 55,
   "metadata": {},
   "outputs": [
    {
     "data": {
      "text/plain": [
       "Text(0, 0.5, 'Count')"
      ]
     },
     "execution_count": 55,
     "metadata": {},
     "output_type": "execute_result"
    },
    {
     "data": {
      "image/png": "[encoded data removed]",
      "text/plain": [
       "<Figure size 1008x576 with 1 Axes>"
      ]
     },
     "metadata": {
      "needs_background": "light"
     },
     "output_type": "display_data"
    }
   ],
   "source": [
    "\n",
    "ax = df1['avg_word_len'].value_counts().plot(kind='hist',\n",
    "                                    figsize=(14,8),\n",
    "                                    title=\"Distribution of Average word length in Tweets\")\n",
    "ax.set_xlabel(\"Average word length\")\n",
    "ax.set_ylabel(\"Count\")"
   ]
  },
  {
   "cell_type": "code",
   "execution_count": 56,
   "metadata": {},
   "outputs": [],
   "source": [
    "def get_top_n_words(x,ngram,top):\n",
    "    vec = CountVectorizer(ngram_range = (ngram,ngram)).fit(x)\n",
    "    bow = vec.transform(x)\n",
    "    sum_words = bow.sum(axis = 0)\n",
    "    words_freq = [(word, sum_words[0,idx]) for word, idx in vec.vocabulary_.items()]\n",
    "    words_freq =  sorted(words_freq, key = lambda x: x[1], reverse = True)\n",
    "    return words_freq[:top]"
   ]
  },
  {
   "cell_type": "code",
   "execution_count": 57,
   "metadata": {},
   "outputs": [],
   "source": [
    "words = get_top_n_words(df1['Tweet'],1,20)"
   ]
  },
  {
   "cell_type": "code",
   "execution_count": 58,
   "metadata": {},
   "outputs": [
    {
     "data": {
      "text/plain": [
       "[('the', 2330),\n",
       " ('to', 1969),\n",
       " ('and', 1284),\n",
       " ('of', 1113),\n",
       " ('in', 1021),\n",
       " ('co', 931),\n",
       " ('https', 916),\n",
       " ('covid_19', 799),\n",
       " ('coronavirus', 777),\n",
       " ('food', 742),\n",
       " ('for', 697),\n",
       " ('is', 669),\n",
       " ('you', 612),\n",
       " ('on', 606),\n",
       " ('are', 582),\n",
       " ('store', 528),\n",
       " ('at', 471),\n",
       " ('grocery', 447),\n",
       " ('19', 443),\n",
       " ('it', 440)]"
      ]
     },
     "execution_count": 58,
     "metadata": {},
     "output_type": "execute_result"
    }
   ],
   "source": [
    "words"
   ]
  },
  {
   "cell_type": "markdown",
   "metadata": {},
   "source": [
    "### Distribution of Unigram,Bigram and Trigram without STOPWORDS"
   ]
  },
  {
   "cell_type": "code",
   "execution_count": 59,
   "metadata": {},
   "outputs": [],
   "source": [
    "def get_top_n_words(x,ngram,top):\n",
    "    vec = CountVectorizer(ngram_range = (ngram,ngram),stop_words = 'english').fit(x)\n",
    "    bow = vec.transform(x)\n",
    "    sum_words = bow.sum(axis = 0)\n",
    "    words_freq = [(word, sum_words[0,idx]) for word, idx in vec.vocabulary_.items()]\n",
    "    words_freq =  sorted(words_freq, key = lambda x: x[1], reverse = True)\n",
    "    return words_freq[:top]"
   ]
  },
  {
   "cell_type": "code",
   "execution_count": 60,
   "metadata": {},
   "outputs": [],
   "source": [
    "words = get_top_n_words(df1['Tweet'],1,20)"
   ]
  },
  {
   "cell_type": "markdown",
   "metadata": {},
   "source": [
    "### Distribution of Top 20 Unigrams based on Frequency"
   ]
  },
  {
   "cell_type": "code",
   "execution_count": 61,
   "metadata": {},
   "outputs": [
    {
     "data": {
      "text/plain": [
       "Text(0, 0.5, 'Count')"
      ]
     },
     "execution_count": 61,
     "metadata": {},
     "output_type": "execute_result"
    },
    {
     "data": {
      "image/png": "[encoded data removed]",
      "text/plain": [
       "<Figure size 1008x576 with 1 Axes>"
      ]
     },
     "metadata": {
      "needs_background": "light"
     },
     "output_type": "display_data"
    }
   ],
   "source": [
    "df2 = pd.DataFrame(words, columns = ['Unigram','Frequency'])\n",
    "df2 = df2.set_index('Unigram')\n",
    "\n",
    "\n",
    "ax = df2.plot(kind='bar',figsize=(14,8),\n",
    "                                    title=\"Distribution of Top 20 Unigrams based on Frequency\")\n",
    "ax.set_xlabel(\"Unigrams\")\n",
    "ax.set_ylabel(\"Count\")\n"
   ]
  },
  {
   "cell_type": "code",
   "execution_count": 62,
   "metadata": {},
   "outputs": [],
   "source": [
    "words = get_top_n_words(df1['Tweet'],2,20)"
   ]
  },
  {
   "cell_type": "markdown",
   "metadata": {},
   "source": [
    "### Distribution of Top 20 Bigrams based on Frequency"
   ]
  },
  {
   "cell_type": "code",
   "execution_count": 63,
   "metadata": {},
   "outputs": [
    {
     "data": {
      "text/plain": [
       "Text(0, 0.5, 'Count')"
      ]
     },
     "execution_count": 63,
     "metadata": {},
     "output_type": "execute_result"
    },
    {
     "data": {
      "image/png": "[encoded data removed]",
      "text/plain": [
       "<Figure size 1008x576 with 1 Axes>"
      ]
     },
     "metadata": {
      "needs_background": "light"
     },
     "output_type": "display_data"
    }
   ],
   "source": [
    "df2 = pd.DataFrame(words, columns = ['Bigram','Frequency'])\n",
    "df2 = df2.set_index('Bigram')\n",
    "ax = df2.plot(kind='bar',figsize=(14,8),\n",
    "                                    title=\"Distribution of Top 20 Unigrams based on Frequency\")\n",
    "ax.set_xlabel(\"Bigram\")\n",
    "ax.set_ylabel(\"Count\")"
   ]
  },
  {
   "cell_type": "code",
   "execution_count": 64,
   "metadata": {},
   "outputs": [],
   "source": [
    "words = get_top_n_words(df1['Tweet'],3,20)"
   ]
  },
  {
   "cell_type": "markdown",
   "metadata": {},
   "source": [
    "### Distribution of Top 20 Trigrams based on Frequency"
   ]
  },
  {
   "cell_type": "code",
   "execution_count": 65,
   "metadata": {},
   "outputs": [
    {
     "data": {
      "text/plain": [
       "Text(0, 0.5, 'Count')"
      ]
     },
     "execution_count": 65,
     "metadata": {},
     "output_type": "execute_result"
    },
    {
     "data": {
      "image/png": "[encoded data removed]",
      "text/plain": [
       "<Figure size 1008x576 with 1 Axes>"
      ]
     },
     "metadata": {
      "needs_background": "light"
     },
     "output_type": "display_data"
    }
   ],
   "source": [
    "df2 = pd.DataFrame(words, columns = ['Trigram','Frequency'])\n",
    "df2 = df2.set_index('Trigram')\n",
    "ax = df2.plot(kind='bar', figsize=(14,8),\n",
    "                                    title=\"Distribution of Top 20 Trigrams based on Frequency\")\n",
    "ax.set_xlabel(\"Trigrams\")\n",
    "ax.set_ylabel(\"Count\")"
   ]
  },
  {
   "cell_type": "markdown",
   "metadata": {},
   "source": [
    "### Bivariate Analysis of Numerical Columns"
   ]
  },
  {
   "cell_type": "code",
   "execution_count": 26,
   "metadata": {},
   "outputs": [
    {
     "data": {
      "text/plain": [
       "<seaborn.axisgrid.PairGrid at 0x1fff770b888>"
      ]
     },
     "execution_count": 26,
     "metadata": {},
     "output_type": "execute_result"
    },
    {
     "data": {
      "image/png": "[encoded data removed]",
      "text/plain": [
       "<Figure size 540x540 with 12 Axes>"
      ]
     },
     "metadata": {
      "needs_background": "light"
     },
     "output_type": "display_data"
    }
   ],
   "source": [
    "sns.pairplot(df1)"
   ]
  },
  {
   "cell_type": "markdown",
   "metadata": {},
   "source": [
    "### Relationship between Quality of Questions and Word Count"
   ]
  },
  {
   "cell_type": "code",
   "execution_count": 27,
   "metadata": {},
   "outputs": [
    {
     "data": {
      "text/plain": [
       "Text(0.5, 0.98, 'Relationship between Sentiment and Word Count')"
      ]
     },
     "execution_count": 27,
     "metadata": {},
     "output_type": "execute_result"
    },
    {
     "data": {
      "image/png": "[encoded data removed]",
      "text/plain": [
       "<Figure size 360x360 with 1 Axes>"
      ]
     },
     "metadata": {
      "needs_background": "light"
     },
     "output_type": "display_data"
    }
   ],
   "source": [
    "plot = sns.catplot(x = 'Sentiment', y='word_count', data=df1)\n",
    "plot.fig.suptitle('Relationship between Sentiment and Word Count')"
   ]
  },
  {
   "cell_type": "markdown",
   "metadata": {},
   "source": [
    "From the above, we can say that Word count does not have much influence on Sentiment of the tweets."
   ]
  },
  {
   "cell_type": "markdown",
   "metadata": {},
   "source": [
    "## Text Cleaning"
   ]
  },
  {
   "cell_type": "markdown",
   "metadata": {},
   "source": [
    "### Counting emails"
   ]
  },
  {
   "cell_type": "code",
   "execution_count": 28,
   "metadata": {},
   "outputs": [],
   "source": [
    "df1['emails'] = df1['Tweet'].apply(lambda x: re.findall(r'([a-zA-Z0-9+._-]+@[a-zA-Z0-9._-]+\\.[a-zA-Z0-9_-]+)', x))\n",
    "df1['emails_count'] = df1['emails'].apply(lambda x: len(x))"
   ]
  },
  {
   "cell_type": "code",
   "execution_count": 29,
   "metadata": {},
   "outputs": [
    {
     "data": {
      "text/html": [
       "<div>\n",
       "<style scoped>\n",
       "    .dataframe tbody tr th:only-of-type {\n",
       "        vertical-align: middle;\n",
       "    }\n",
       "\n",
       "    .dataframe tbody tr th {\n",
       "        vertical-align: top;\n",
       "    }\n",
       "\n",
       "    .dataframe thead th {\n",
       "        text-align: right;\n",
       "    }\n",
       "</style>\n",
       "<table border=\"1\" class=\"dataframe\">\n",
       "  <thead>\n",
       "    <tr style=\"text-align: right;\">\n",
       "      <th></th>\n",
       "      <th>Tweet</th>\n",
       "      <th>Sentiment</th>\n",
       "      <th>text_len</th>\n",
       "      <th>word_count</th>\n",
       "      <th>avg_word_len</th>\n",
       "      <th>emails</th>\n",
       "      <th>emails_count</th>\n",
       "    </tr>\n",
       "  </thead>\n",
       "  <tbody>\n",
       "    <tr>\n",
       "      <th>16</th>\n",
       "      <td>So far 36 Pennsylvanians have reached out to m...</td>\n",
       "      <td>Negative</td>\n",
       "      <td>280</td>\n",
       "      <td>38</td>\n",
       "      <td>6.236842</td>\n",
       "      <td>[pricegouging@attorneygeneral.gov]</td>\n",
       "      <td>1</td>\n",
       "    </tr>\n",
       "    <tr>\n",
       "      <th>261</th>\n",
       "      <td>U.S. World Food Prices Fell During February: \"...</td>\n",
       "      <td>Negative</td>\n",
       "      <td>309</td>\n",
       "      <td>49</td>\n",
       "      <td>5.224490</td>\n",
       "      <td>[info@farms.com]</td>\n",
       "      <td>1</td>\n",
       "    </tr>\n",
       "    <tr>\n",
       "      <th>415</th>\n",
       "      <td>Has anyone in #Cardiff or #SouthWales had thei...</td>\n",
       "      <td>Negative</td>\n",
       "      <td>313</td>\n",
       "      <td>45</td>\n",
       "      <td>5.711111</td>\n",
       "      <td>[rhiannon.c.moore@icloud.com]</td>\n",
       "      <td>1</td>\n",
       "    </tr>\n",
       "    <tr>\n",
       "      <th>1001</th>\n",
       "      <td>Be vigilant about scam calls regarding the Cov...</td>\n",
       "      <td>Negative</td>\n",
       "      <td>274</td>\n",
       "      <td>37</td>\n",
       "      <td>6.405405</td>\n",
       "      <td>[consumerhelp@state.sd.us]</td>\n",
       "      <td>1</td>\n",
       "    </tr>\n",
       "    <tr>\n",
       "      <th>1098</th>\n",
       "      <td>Report retailers or manufacturers colluding &amp;a...</td>\n",
       "      <td>Positive</td>\n",
       "      <td>262</td>\n",
       "      <td>34</td>\n",
       "      <td>6.735294</td>\n",
       "      <td>[info@cak.go.ke]</td>\n",
       "      <td>1</td>\n",
       "    </tr>\n",
       "  </tbody>\n",
       "</table>\n",
       "</div>"
      ],
      "text/plain": [
       "                                                  Tweet Sentiment  text_len  \\\n",
       "16    So far 36 Pennsylvanians have reached out to m...  Negative       280   \n",
       "261   U.S. World Food Prices Fell During February: \"...  Negative       309   \n",
       "415   Has anyone in #Cardiff or #SouthWales had thei...  Negative       313   \n",
       "1001  Be vigilant about scam calls regarding the Cov...  Negative       274   \n",
       "1098  Report retailers or manufacturers colluding &a...  Positive       262   \n",
       "\n",
       "      word_count  avg_word_len                              emails  \\\n",
       "16            38      6.236842  [pricegouging@attorneygeneral.gov]   \n",
       "261           49      5.224490                    [info@farms.com]   \n",
       "415           45      5.711111       [rhiannon.c.moore@icloud.com]   \n",
       "1001          37      6.405405          [consumerhelp@state.sd.us]   \n",
       "1098          34      6.735294                    [info@cak.go.ke]   \n",
       "\n",
       "      emails_count  \n",
       "16               1  \n",
       "261              1  \n",
       "415              1  \n",
       "1001             1  \n",
       "1098             1  "
      ]
     },
     "execution_count": 29,
     "metadata": {},
     "output_type": "execute_result"
    }
   ],
   "source": [
    "df1[df1['emails_count']>0].head()"
   ]
  },
  {
   "cell_type": "markdown",
   "metadata": {},
   "source": [
    "### Counting URLs"
   ]
  },
  {
   "cell_type": "code",
   "execution_count": 30,
   "metadata": {},
   "outputs": [],
   "source": [
    "df1['urls_flag'] = df1['Tweet'].apply(lambda x: len(re.findall(r'(http|ftp|https)://([\\w_-]+(?:(?:\\.[\\w_-]+)+))([\\w.,@?^=%&:/~+#-]*[\\w@?^=%&/~+#-])?', x)))"
   ]
  },
  {
   "cell_type": "code",
   "execution_count": 31,
   "metadata": {},
   "outputs": [
    {
     "data": {
      "text/html": [
       "<div>\n",
       "<style scoped>\n",
       "    .dataframe tbody tr th:only-of-type {\n",
       "        vertical-align: middle;\n",
       "    }\n",
       "\n",
       "    .dataframe tbody tr th {\n",
       "        vertical-align: top;\n",
       "    }\n",
       "\n",
       "    .dataframe thead th {\n",
       "        text-align: right;\n",
       "    }\n",
       "</style>\n",
       "<table border=\"1\" class=\"dataframe\">\n",
       "  <thead>\n",
       "    <tr style=\"text-align: right;\">\n",
       "      <th></th>\n",
       "      <th>Tweet</th>\n",
       "      <th>Sentiment</th>\n",
       "      <th>text_len</th>\n",
       "      <th>word_count</th>\n",
       "      <th>avg_word_len</th>\n",
       "      <th>emails</th>\n",
       "      <th>emails_count</th>\n",
       "      <th>urls_flag</th>\n",
       "    </tr>\n",
       "  </thead>\n",
       "  <tbody>\n",
       "    <tr>\n",
       "      <th>0</th>\n",
       "      <td>When I couldn't find hand sanitizer at Fred Me...</td>\n",
       "      <td>Positive</td>\n",
       "      <td>205</td>\n",
       "      <td>32</td>\n",
       "      <td>5.406250</td>\n",
       "      <td>[]</td>\n",
       "      <td>0</td>\n",
       "      <td>1</td>\n",
       "    </tr>\n",
       "    <tr>\n",
       "      <th>1</th>\n",
       "      <td>#Panic buying hits #NewYork City as anxious sh...</td>\n",
       "      <td>Negative</td>\n",
       "      <td>330</td>\n",
       "      <td>38</td>\n",
       "      <td>7.368421</td>\n",
       "      <td>[]</td>\n",
       "      <td>0</td>\n",
       "      <td>2</td>\n",
       "    </tr>\n",
       "    <tr>\n",
       "      <th>2</th>\n",
       "      <td>Voting in the age of #coronavirus = hand sanit...</td>\n",
       "      <td>Positive</td>\n",
       "      <td>91</td>\n",
       "      <td>12</td>\n",
       "      <td>6.583333</td>\n",
       "      <td>[]</td>\n",
       "      <td>0</td>\n",
       "      <td>1</td>\n",
       "    </tr>\n",
       "    <tr>\n",
       "      <th>3</th>\n",
       "      <td>Best quality couches at unbelievably low price...</td>\n",
       "      <td>Positive</td>\n",
       "      <td>256</td>\n",
       "      <td>31</td>\n",
       "      <td>6.516129</td>\n",
       "      <td>[]</td>\n",
       "      <td>0</td>\n",
       "      <td>1</td>\n",
       "    </tr>\n",
       "    <tr>\n",
       "      <th>4</th>\n",
       "      <td>While we were busy watching election returns a...</td>\n",
       "      <td>Positive</td>\n",
       "      <td>212</td>\n",
       "      <td>28</td>\n",
       "      <td>6.607143</td>\n",
       "      <td>[]</td>\n",
       "      <td>0</td>\n",
       "      <td>1</td>\n",
       "    </tr>\n",
       "  </tbody>\n",
       "</table>\n",
       "</div>"
      ],
      "text/plain": [
       "                                               Tweet Sentiment  text_len  \\\n",
       "0  When I couldn't find hand sanitizer at Fred Me...  Positive       205   \n",
       "1  #Panic buying hits #NewYork City as anxious sh...  Negative       330   \n",
       "2  Voting in the age of #coronavirus = hand sanit...  Positive        91   \n",
       "3  Best quality couches at unbelievably low price...  Positive       256   \n",
       "4  While we were busy watching election returns a...  Positive       212   \n",
       "\n",
       "   word_count  avg_word_len emails  emails_count  urls_flag  \n",
       "0          32      5.406250     []             0          1  \n",
       "1          38      7.368421     []             0          2  \n",
       "2          12      6.583333     []             0          1  \n",
       "3          31      6.516129     []             0          1  \n",
       "4          28      6.607143     []             0          1  "
      ]
     },
     "execution_count": 31,
     "metadata": {},
     "output_type": "execute_result"
    }
   ],
   "source": [
    "df1[df1['urls_flag'] > 0].head()"
   ]
  },
  {
   "cell_type": "code",
   "execution_count": 32,
   "metadata": {},
   "outputs": [],
   "source": [
    "#Cleaning tet by converting text to lowecase,removing emails,urls,html tags,spaces,punctuations,numbers and stop words\n",
    "def cleaning_text(text):\n",
    "    #Converting to lowercase\n",
    "    text = text.lower()\n",
    "    #Removing emails\n",
    "    text = re.sub(r'([a-zA-Z0-9+._-]+@[a-zA-Z0-9._-]+\\.[a-zA-Z0-9_-]+)', '', text)\n",
    "    #Removing URLs\n",
    "    text = re.sub(r'(http|ftp|https)://([\\w_-]+(?:(?:\\.[\\w_-]+)+))([\\w.,@?^=%&:/~+#-]*[\\w@?^=%&/~+#-])?', '', text)\n",
    "    #Removing HTML tags\n",
    "    text = BeautifulSoup(text, 'lxml').get_text()\n",
    "    #Removing punctuations and numbers\n",
    "    text = re.sub('[^A-Z a-z ]+', ' ', text)\n",
    "    #Removing Multiple spaces\n",
    "    text =  \" \".join(text.split())\n",
    "    #Removing Stop words\n",
    "    text =  \" \".join([t for t in text.split() if t not in STOP_WORDS])\n",
    "    return text"
   ]
  },
  {
   "cell_type": "code",
   "execution_count": 33,
   "metadata": {},
   "outputs": [],
   "source": [
    "#Dropping unnecessary columns\n",
    "df1 = df1.drop(['emails','emails_count','urls_flag'], axis = 1)\n",
    "#Cleaning Text\n",
    "df1['Tweet'] = df1['Tweet'].apply(lambda x: cleaning_text(x))\n",
    "#Dropping duplicate values\n",
    "df1 = df1.drop_duplicates(subset=[\"Tweet\",\"Sentiment\"])"
   ]
  },
  {
   "cell_type": "code",
   "execution_count": 34,
   "metadata": {},
   "outputs": [
    {
     "name": "stdout",
     "output_type": "stream",
     "text": [
      "\r\n",
      "\r\n",
      "\r\n",
      "\r\n",
      " ?? ???? ?????? . ??? ???? ??? \n",
      "\n",
      "\n",
      "\n",
      "\n",
      " realdonaldtrump separate table corna virus statistics high stats corona virus government s inability control corona virus high price disinfectant gel usa high price mask usa food prices rising day day\n"
     ]
    }
   ],
   "source": [
    "i = 20\n",
    "print(df['Tweet'][i],\"\\n\\n\\n\\n\\n\",df1['Tweet'][i])"
   ]
  },
  {
   "cell_type": "code",
   "execution_count": 35,
   "metadata": {},
   "outputs": [
    {
     "data": {
      "text/plain": [
       "38981"
      ]
     },
     "execution_count": 35,
     "metadata": {},
     "output_type": "execute_result"
    }
   ],
   "source": [
    "text = ' '.join(df1['Tweet'])\n",
    "text = text.split()\n",
    "len(text)"
   ]
  },
  {
   "cell_type": "markdown",
   "metadata": {},
   "source": [
    "### Most frequent words"
   ]
  },
  {
   "cell_type": "code",
   "execution_count": 36,
   "metadata": {},
   "outputs": [
    {
     "data": {
      "text/plain": [
       "covid          1533\n",
       "coronavirus     776\n",
       "food            746\n",
       "store           528\n",
       "grocery         447\n",
       "s               439\n",
       "t               429\n",
       "stock           425\n",
       "people          421\n",
       "shopping        292\n",
       "supermarket     287\n",
       "online          280\n",
       "panic           244\n",
       "prices          230\n",
       "toilet          201\n",
       "paper           197\n",
       "like            197\n",
       "need            183\n",
       "don             174\n",
       "buying          156\n",
       "dtype: int64"
      ]
     },
     "execution_count": 36,
     "metadata": {},
     "output_type": "execute_result"
    }
   ],
   "source": [
    "freq_comm = pd.Series(text).value_counts()\n",
    "freq_comm[:20]"
   ]
  },
  {
   "cell_type": "code",
   "execution_count": 37,
   "metadata": {},
   "outputs": [],
   "source": [
    "#Removing characters since it may be often used as variables\n",
    "df1['Tweet'] = df1['Tweet'].apply(lambda x: \" \".join([t for t in x.split() if len(t) > 1]))"
   ]
  },
  {
   "cell_type": "code",
   "execution_count": 38,
   "metadata": {},
   "outputs": [],
   "source": [
    "f10 = freq_comm[:10]\n",
    "df1['Tweet'] = df1['Tweet'].apply(lambda x: \" \".join([t for t in x.split() if t not in f10[:10]]))#Removing most frequent words"
   ]
  },
  {
   "cell_type": "markdown",
   "metadata": {},
   "source": [
    "### Removing rare words"
   ]
  },
  {
   "cell_type": "code",
   "execution_count": 39,
   "metadata": {},
   "outputs": [],
   "source": [
    "rare = freq_comm[freq_comm.values == 1]\n",
    "df1['Tweet'] = df1['Tweet'].apply(lambda x: ' '.join([t for t in x.split() if t not in rare]))"
   ]
  },
  {
   "cell_type": "code",
   "execution_count": 40,
   "metadata": {},
   "outputs": [
    {
     "data": {
      "text/plain": [
       "3442"
      ]
     },
     "execution_count": 40,
     "metadata": {},
     "output_type": "execute_result"
    }
   ],
   "source": [
    "text = ' '.join(df1['Tweet'])\n",
    "text = text.split()\n",
    "len(set(text))"
   ]
  },
  {
   "cell_type": "markdown",
   "metadata": {},
   "source": [
    "### TF - IDF Vectorizer"
   ]
  },
  {
   "cell_type": "code",
   "execution_count": 41,
   "metadata": {},
   "outputs": [],
   "source": [
    "vectorizer = TfidfVectorizer(analyzer='word', stop_words='english')\n",
    "tfIdfMat  = vectorizer.fit_transform(df1['Tweet'].tolist())"
   ]
  },
  {
   "cell_type": "code",
   "execution_count": 42,
   "metadata": {},
   "outputs": [],
   "source": [
    "feature_names = sorted(vectorizer.get_feature_names())\n",
    "#print(feature_names)"
   ]
  },
  {
   "cell_type": "code",
   "execution_count": 43,
   "metadata": {},
   "outputs": [
    {
     "data": {
      "text/plain": [
       "3431"
      ]
     },
     "execution_count": 43,
     "metadata": {},
     "output_type": "execute_result"
    }
   ],
   "source": [
    "len(feature_names)"
   ]
  },
  {
   "cell_type": "code",
   "execution_count": 44,
   "metadata": {},
   "outputs": [],
   "source": [
    "from sklearn.model_selection import train_test_split\n",
    "\n",
    "labels = df1['Sentiment'].tolist()\n",
    "X_train, X_test, y_train, y_test = train_test_split(tfIdfMat, labels, test_size=0.33,random_state=42)"
   ]
  },
  {
   "cell_type": "code",
   "execution_count": 45,
   "metadata": {},
   "outputs": [
    {
     "name": "stdout",
     "output_type": "stream",
     "text": [
      "0.6402439024390244\n",
      "              precision    recall  f1-score   support\n",
      "\n",
      "    Negative       0.63      0.73      0.68       341\n",
      "    Positive       0.65      0.54      0.59       315\n",
      "\n",
      "    accuracy                           0.64       656\n",
      "   macro avg       0.64      0.64      0.63       656\n",
      "weighted avg       0.64      0.64      0.64       656\n",
      "\n"
     ]
    }
   ],
   "source": [
    "log = LogisticRegression()\n",
    "log.fit(X_train,y_train)\n",
    "predictions = log.predict(X_test)\n",
    "print(metrics.accuracy_score(y_test,predictions))\n",
    "print(metrics.classification_report(y_test,predictions))"
   ]
  },
  {
   "cell_type": "code",
   "execution_count": 46,
   "metadata": {},
   "outputs": [
    {
     "name": "stdout",
     "output_type": "stream",
     "text": [
      "0.635670731707317\n",
      "              precision    recall  f1-score   support\n",
      "\n",
      "    Negative       0.62      0.77      0.69       341\n",
      "    Positive       0.66      0.49      0.56       315\n",
      "\n",
      "    accuracy                           0.64       656\n",
      "   macro avg       0.64      0.63      0.63       656\n",
      "weighted avg       0.64      0.64      0.63       656\n",
      "\n"
     ]
    }
   ],
   "source": [
    "svc = SVC()\n",
    "svc.fit(X_train, y_train)\n",
    "y_pred = svc.predict(X_test)\n",
    "print(metrics.accuracy_score(y_test,y_pred))\n",
    "print(metrics.classification_report(y_test,y_pred))"
   ]
  },
  {
   "cell_type": "code",
   "execution_count": 47,
   "metadata": {},
   "outputs": [
    {
     "name": "stdout",
     "output_type": "stream",
     "text": [
      "0.6021341463414634\n",
      "              precision    recall  f1-score   support\n",
      "\n",
      "    Negative       0.61      0.66      0.63       341\n",
      "    Positive       0.59      0.54      0.57       315\n",
      "\n",
      "    accuracy                           0.60       656\n",
      "   macro avg       0.60      0.60      0.60       656\n",
      "weighted avg       0.60      0.60      0.60       656\n",
      "\n"
     ]
    }
   ],
   "source": [
    "dtree = DecisionTreeClassifier()\n",
    "dtree.fit(X_train,y_train)\n",
    "y_pred_dtree = dtree.predict(X_test)\n",
    "print(metrics.accuracy_score(y_test,y_pred_dtree))\n",
    "print(metrics.classification_report(y_test,y_pred_dtree))"
   ]
  },
  {
   "cell_type": "code",
   "execution_count": 48,
   "metadata": {},
   "outputs": [
    {
     "name": "stdout",
     "output_type": "stream",
     "text": [
      "0.6204268292682927\n",
      "              precision    recall  f1-score   support\n",
      "\n",
      "    Negative       0.60      0.82      0.69       341\n",
      "    Positive       0.67      0.41      0.51       315\n",
      "\n",
      "    accuracy                           0.62       656\n",
      "   macro avg       0.64      0.61      0.60       656\n",
      "weighted avg       0.63      0.62      0.60       656\n",
      "\n"
     ]
    }
   ],
   "source": [
    "clf=RandomForestClassifier(n_estimators=100)    #Create a Gaussian Classifier\n",
    "clf.fit(X_train,y_train)     #Train the model using the training sets y_pred=clf.predict(X_test)\n",
    "y_pred_rf=clf.predict(X_test)\n",
    "print(metrics.accuracy_score(y_test,y_pred_rf))\n",
    "print(metrics.classification_report(y_test,y_pred_rf))"
   ]
  },
  {
   "cell_type": "markdown",
   "metadata": {},
   "source": [
    "### Word Embedding with word2vec"
   ]
  },
  {
   "cell_type": "code",
   "execution_count": 49,
   "metadata": {},
   "outputs": [],
   "source": [
    "def get_vec(x):\n",
    "    doc = nlp(x)\n",
    "    vec = doc.vector\n",
    "    return vec"
   ]
  },
  {
   "cell_type": "code",
   "execution_count": 50,
   "metadata": {},
   "outputs": [
    {
     "data": {
      "text/html": [
       "<div>\n",
       "<style scoped>\n",
       "    .dataframe tbody tr th:only-of-type {\n",
       "        vertical-align: middle;\n",
       "    }\n",
       "\n",
       "    .dataframe tbody tr th {\n",
       "        vertical-align: top;\n",
       "    }\n",
       "\n",
       "    .dataframe thead th {\n",
       "        text-align: right;\n",
       "    }\n",
       "</style>\n",
       "<table border=\"1\" class=\"dataframe\">\n",
       "  <thead>\n",
       "    <tr style=\"text-align: right;\">\n",
       "      <th></th>\n",
       "      <th>Tweet</th>\n",
       "      <th>Sentiment</th>\n",
       "      <th>text_len</th>\n",
       "      <th>word_count</th>\n",
       "      <th>avg_word_len</th>\n",
       "      <th>vec</th>\n",
       "    </tr>\n",
       "  </thead>\n",
       "  <tbody>\n",
       "    <tr>\n",
       "      <th>0</th>\n",
       "      <td>couldn find hand sanitizer fred meyer amazon p...</td>\n",
       "      <td>Positive</td>\n",
       "      <td>205</td>\n",
       "      <td>32</td>\n",
       "      <td>5.406250</td>\n",
       "      <td>[-0.2030265, 0.07947565, -0.02712057, -0.06036...</td>\n",
       "    </tr>\n",
       "    <tr>\n",
       "      <th>1</th>\n",
       "      <td>panic buying hits newyork city anxious shopper...</td>\n",
       "      <td>Negative</td>\n",
       "      <td>330</td>\n",
       "      <td>38</td>\n",
       "      <td>7.368421</td>\n",
       "      <td>[-0.01406505, 0.09977359, 0.0059688976, -0.029...</td>\n",
       "    </tr>\n",
       "    <tr>\n",
       "      <th>2</th>\n",
       "      <td>age hand sanitizer</td>\n",
       "      <td>Positive</td>\n",
       "      <td>91</td>\n",
       "      <td>12</td>\n",
       "      <td>6.583333</td>\n",
       "      <td>[-0.46513334, 0.04096665, 0.116428666, -0.0849...</td>\n",
       "    </tr>\n",
       "    <tr>\n",
       "      <th>3</th>\n",
       "      <td>best low prices available order boksburg info ...</td>\n",
       "      <td>Positive</td>\n",
       "      <td>256</td>\n",
       "      <td>31</td>\n",
       "      <td>6.516129</td>\n",
       "      <td>[-0.19799939, 0.19754182, 0.085628636, -0.0532...</td>\n",
       "    </tr>\n",
       "    <tr>\n",
       "      <th>4</th>\n",
       "      <td>busy watching election returns bracing outbrea...</td>\n",
       "      <td>Positive</td>\n",
       "      <td>212</td>\n",
       "      <td>28</td>\n",
       "      <td>6.607143</td>\n",
       "      <td>[-0.11161437, 0.15552333, 0.13277888, -0.10643...</td>\n",
       "    </tr>\n",
       "  </tbody>\n",
       "</table>\n",
       "</div>"
      ],
      "text/plain": [
       "                                               Tweet Sentiment  text_len  \\\n",
       "0  couldn find hand sanitizer fred meyer amazon p...  Positive       205   \n",
       "1  panic buying hits newyork city anxious shopper...  Negative       330   \n",
       "2                                 age hand sanitizer  Positive        91   \n",
       "3  best low prices available order boksburg info ...  Positive       256   \n",
       "4  busy watching election returns bracing outbrea...  Positive       212   \n",
       "\n",
       "   word_count  avg_word_len                                                vec  \n",
       "0          32      5.406250  [-0.2030265, 0.07947565, -0.02712057, -0.06036...  \n",
       "1          38      7.368421  [-0.01406505, 0.09977359, 0.0059688976, -0.029...  \n",
       "2          12      6.583333  [-0.46513334, 0.04096665, 0.116428666, -0.0849...  \n",
       "3          31      6.516129  [-0.19799939, 0.19754182, 0.085628636, -0.0532...  \n",
       "4          28      6.607143  [-0.11161437, 0.15552333, 0.13277888, -0.10643...  "
      ]
     },
     "execution_count": 50,
     "metadata": {},
     "output_type": "execute_result"
    }
   ],
   "source": [
    "df1['vec'] = df1['Tweet'].apply(lambda x: get_vec(x))\n",
    "df1.head()"
   ]
  },
  {
   "cell_type": "code",
   "execution_count": 51,
   "metadata": {},
   "outputs": [],
   "source": [
    "pickle.dump(df1,open('clean_data.pkl','wb'))"
   ]
  },
  {
   "cell_type": "code",
   "execution_count": 52,
   "metadata": {},
   "outputs": [],
   "source": [
    "df1 = pickle.load(open('clean_data.pkl','rb'))"
   ]
  },
  {
   "cell_type": "code",
   "execution_count": 53,
   "metadata": {},
   "outputs": [],
   "source": [
    "X = df1['vec'].to_numpy()\n",
    "X = X.reshape(-1, 1)"
   ]
  },
  {
   "cell_type": "code",
   "execution_count": 54,
   "metadata": {},
   "outputs": [
    {
     "data": {
      "text/plain": [
       "(1987, 1)"
      ]
     },
     "execution_count": 54,
     "metadata": {},
     "output_type": "execute_result"
    }
   ],
   "source": [
    "X.shape"
   ]
  },
  {
   "cell_type": "code",
   "execution_count": 55,
   "metadata": {},
   "outputs": [],
   "source": [
    "X = np.concatenate(np.concatenate(X, axis = 0), axis = 0).reshape(-1, 300)"
   ]
  },
  {
   "cell_type": "code",
   "execution_count": 56,
   "metadata": {},
   "outputs": [
    {
     "data": {
      "text/plain": [
       "(1987, 300)"
      ]
     },
     "execution_count": 56,
     "metadata": {},
     "output_type": "execute_result"
    }
   ],
   "source": [
    "X.shape"
   ]
  },
  {
   "cell_type": "code",
   "execution_count": 57,
   "metadata": {},
   "outputs": [],
   "source": [
    "y = df1['Sentiment']"
   ]
  },
  {
   "cell_type": "code",
   "execution_count": 58,
   "metadata": {},
   "outputs": [],
   "source": [
    "X_train, X_test, y_train, y_test = train_test_split(X, y, test_size = 0.2, random_state = 0)"
   ]
  },
  {
   "cell_type": "code",
   "execution_count": 59,
   "metadata": {},
   "outputs": [
    {
     "data": {
      "text/plain": [
       "((1589, 300), (398, 300))"
      ]
     },
     "execution_count": 59,
     "metadata": {},
     "output_type": "execute_result"
    }
   ],
   "source": [
    "X_train.shape, X_test.shape"
   ]
  },
  {
   "cell_type": "markdown",
   "metadata": {},
   "source": [
    "## Logistic Regression"
   ]
  },
  {
   "cell_type": "code",
   "execution_count": 60,
   "metadata": {},
   "outputs": [
    {
     "data": {
      "text/plain": [
       "LogisticRegression()"
      ]
     },
     "execution_count": 60,
     "metadata": {},
     "output_type": "execute_result"
    }
   ],
   "source": [
    "log = LogisticRegression()\n",
    "log.fit(X_train,y_train)"
   ]
  },
  {
   "cell_type": "code",
   "execution_count": 61,
   "metadata": {},
   "outputs": [],
   "source": [
    "pickle.dump(log,open('logistic_train.pkl','wb'))"
   ]
  },
  {
   "cell_type": "code",
   "execution_count": 62,
   "metadata": {},
   "outputs": [],
   "source": [
    "log = pickle.load(open('logistic_train.pkl','rb'))"
   ]
  },
  {
   "cell_type": "code",
   "execution_count": 63,
   "metadata": {},
   "outputs": [],
   "source": [
    "y_pred = log.predict(X_test)"
   ]
  },
  {
   "cell_type": "code",
   "execution_count": 64,
   "metadata": {},
   "outputs": [
    {
     "name": "stdout",
     "output_type": "stream",
     "text": [
      "Logistic Regression:\n",
      "Accuracy:  0.6306532663316583\n"
     ]
    }
   ],
   "source": [
    "print(\"Logistic Regression:\\nAccuracy: \",metrics.accuracy_score(y_test,y_pred))"
   ]
  },
  {
   "cell_type": "markdown",
   "metadata": {},
   "source": [
    "<h2>Naive Bayes</h2>"
   ]
  },
  {
   "cell_type": "code",
   "execution_count": 65,
   "metadata": {},
   "outputs": [],
   "source": [
    "nb = GaussianNB()\n",
    "nb.fit(X_train, y_train)\n",
    "y_pred  =  nb.predict(X_test)"
   ]
  },
  {
   "cell_type": "code",
   "execution_count": 66,
   "metadata": {},
   "outputs": [],
   "source": [
    "pickle.dump(nb,open('naive_train.pkl','wb'))"
   ]
  },
  {
   "cell_type": "code",
   "execution_count": 67,
   "metadata": {},
   "outputs": [
    {
     "name": "stdout",
     "output_type": "stream",
     "text": [
      "[[126  86]\n",
      " [ 76 110]]\n",
      "0.592964824120603\n"
     ]
    }
   ],
   "source": [
    "print(metrics.confusion_matrix(y_test, y_pred))\n",
    "print(metrics.accuracy_score(y_test,y_pred))"
   ]
  },
  {
   "cell_type": "markdown",
   "metadata": {},
   "source": [
    "<h2>Decision Tree</h2>"
   ]
  },
  {
   "cell_type": "code",
   "execution_count": 68,
   "metadata": {},
   "outputs": [],
   "source": [
    "dtree = DecisionTreeClassifier()\n",
    "dtree.fit(X_train,y_train)\n",
    "y_pred_dtree = dtree.predict(X_test)"
   ]
  },
  {
   "cell_type": "code",
   "execution_count": 69,
   "metadata": {},
   "outputs": [],
   "source": [
    "pickle.dump(dtree,open('dtree_train.pkl','wb'))"
   ]
  },
  {
   "cell_type": "code",
   "execution_count": 70,
   "metadata": {},
   "outputs": [],
   "source": [
    "dtree = pickle.load(open('dtree_train.pkl','rb'))"
   ]
  },
  {
   "cell_type": "code",
   "execution_count": 71,
   "metadata": {},
   "outputs": [
    {
     "name": "stdout",
     "output_type": "stream",
     "text": [
      "Decision Tree:\n",
      "Accuracy:  0.5125628140703518\n"
     ]
    }
   ],
   "source": [
    "print(\"Decision Tree:\\nAccuracy: \",metrics.accuracy_score(y_test,y_pred_dtree))"
   ]
  },
  {
   "cell_type": "markdown",
   "metadata": {},
   "source": [
    "<h2>Random Forest Classification</h2>"
   ]
  },
  {
   "cell_type": "code",
   "execution_count": 72,
   "metadata": {},
   "outputs": [],
   "source": [
    "clf=RandomForestClassifier(n_estimators=100)    #Create a Gaussian Classifier\n",
    "clf.fit(X_train,y_train)     #Train the model using the training sets y_pred=clf.predict(X_test)\n",
    "y_pred_rf=clf.predict(X_test)"
   ]
  },
  {
   "cell_type": "code",
   "execution_count": 73,
   "metadata": {},
   "outputs": [],
   "source": [
    "pickle.dump(clf,open('randomforest_train.pkl','wb'))"
   ]
  },
  {
   "cell_type": "code",
   "execution_count": 74,
   "metadata": {},
   "outputs": [],
   "source": [
    "clf = pickle.load(open('randomforest_train.pkl','rb'))"
   ]
  },
  {
   "cell_type": "code",
   "execution_count": 75,
   "metadata": {},
   "outputs": [
    {
     "name": "stdout",
     "output_type": "stream",
     "text": [
      "Accuracy: 0.6105527638190955\n"
     ]
    }
   ],
   "source": [
    "print(\"Accuracy:\",metrics.accuracy_score(y_test, y_pred_rf))"
   ]
  },
  {
   "cell_type": "markdown",
   "metadata": {},
   "source": [
    "<h2>XGBoost Classifier</h2>"
   ]
  },
  {
   "cell_type": "code",
   "execution_count": 76,
   "metadata": {},
   "outputs": [],
   "source": [
    "label_encoder = preprocessing.LabelEncoder()\n",
    "y_code = label_encoder.fit_transform(df1['Sentiment'])\n",
    "ytrain_code = label_encoder.fit_transform(y_train)\n",
    "ytest_code = label_encoder.fit_transform(y_test)"
   ]
  },
  {
   "cell_type": "code",
   "execution_count": 77,
   "metadata": {},
   "outputs": [],
   "source": [
    "data_dmatrix = xgb.DMatrix(data=X,label=y_code)"
   ]
  },
  {
   "cell_type": "code",
   "execution_count": 78,
   "metadata": {},
   "outputs": [],
   "source": [
    "xg_reg = xgb.XGBClassifier(objective ='multi:softmax', colsample_bytree = 0.3, learning_rate = 0.1,\n",
    "                max_depth = 5, alpha = 10, n_estimators = 10,num_class=3)\n",
    "xg_reg.fit(X_train,ytrain_code)\n",
    "preds = xg_reg.predict(X_test)"
   ]
  },
  {
   "cell_type": "code",
   "execution_count": 79,
   "metadata": {},
   "outputs": [],
   "source": [
    "pickle.dump(xg_reg,open('xgb_train.pkl','wb'))"
   ]
  },
  {
   "cell_type": "code",
   "execution_count": 80,
   "metadata": {},
   "outputs": [],
   "source": [
    "xg_reg = pickle.load(open('xgb_train.pkl','rb'))"
   ]
  },
  {
   "cell_type": "code",
   "execution_count": 81,
   "metadata": {},
   "outputs": [
    {
     "name": "stdout",
     "output_type": "stream",
     "text": [
      "RMSE: 0.663098\n",
      "Accuracy:  0.5603015075376885\n"
     ]
    }
   ],
   "source": [
    "rmse = np.sqrt(metrics.mean_squared_error(ytest_code, preds))\n",
    "print(\"RMSE: %f\" % (rmse))\n",
    "#predictions = [round(value) for value in preds]\n",
    "print(\"Accuracy: \",metrics.accuracy_score(ytest_code,preds))"
   ]
  },
  {
   "cell_type": "markdown",
   "metadata": {},
   "source": [
    "<h2>Giving input and Prediction</h2>"
   ]
  },
  {
   "cell_type": "code",
   "execution_count": 82,
   "metadata": {},
   "outputs": [],
   "source": [
    "input = [['''\"Form Validation project<p>I am working on a project for my company and we are not allowed to alter the HTML in any way. There is already a Page set up in the Using html to do Data Validation. There are to separate forms of validation questions on the page and each form contains its own \"\"submit\"\" button. Although both submit buttons have the same \"\"id\"\". is there any way to figure out how isolate each button to apply a different \"\".onclick\"\" method to them. Thanks in advance.</p>\n",
    "\"\n",
    "'''],[''' ''']]\n",
    "   "
   ]
  },
  {
   "cell_type": "markdown",
   "metadata": {},
   "source": [
    "#Tf-idf vectorizer\n",
    "for i in input:\n",
    "    print(log.predict(vectorizer.transform([str(i)])))"
   ]
  },
  {
   "cell_type": "markdown",
   "metadata": {},
   "source": [
    "# LSTM and Bidirectional LSTM"
   ]
  },
  {
   "cell_type": "code",
   "execution_count": 84,
   "metadata": {},
   "outputs": [],
   "source": [
    "import gensim\n",
    "from nltk.tokenize.treebank import TreebankWordDetokenizer"
   ]
  },
  {
   "cell_type": "code",
   "execution_count": 85,
   "metadata": {},
   "outputs": [],
   "source": [
    "df = pd.read_csv(\"CoronaTweetsSentimentAnalysis.csv\")\n",
    "df['Tweet'] = pd.Series(df[['OriginalTweet','Location']].fillna('').values.tolist()).str.join(' ')\n",
    "df.drop(['UserName','ScreenName','TweetAt','OriginalTweet','Location'],axis = 1, inplace = True)"
   ]
  },
  {
   "cell_type": "code",
   "execution_count": 86,
   "metadata": {},
   "outputs": [
    {
     "name": "stdout",
     "output_type": "stream",
     "text": [
      "['couldn find hand sanitizer fred meyer turned amazon pack purell check coronavirus concerns driving prices seattle wa', 'panic buying hits newyork city anxious shoppers stock food medical supplies healthcare worker bigapple st confirmed coronavirus patient bloomberg staged event qanon qanon qanon election cdc chicagoland', 'voting age coronavirus hand sanitizer supertuesday', 'best quality couches unbelievably low prices available order boksburg gp info whatsapp supertuesdsy powertalk covid sayentrepreneur djsbu boksburg south africa', 'busy watching election returns bracing covid outbreak trump nominated chemical industry lobbyist head consumer product safety commission washington dc']\n"
     ]
    }
   ],
   "source": [
    "temp = []\n",
    "#Splitting pd.Series to list\n",
    "data_to_list = df['Tweet'].values.tolist()\n",
    "for i in range(len(data_to_list)):\n",
    "    temp.append(cleaning_text(data_to_list[i]))\n",
    "\n",
    "def sent_to_words(sentences):\n",
    "    for sentence in sentences:\n",
    "        yield(gensim.utils.simple_preprocess(str(sentence), deacc=True))  # deacc=True removes punctuations\n",
    "        \n",
    "data_words = list(sent_to_words(temp))\n",
    "\n",
    "def detokenize(text):\n",
    "    return TreebankWordDetokenizer().detokenize(text)\n",
    "\n",
    "data = []\n",
    "for i in range(len(data_words)):\n",
    "    data.append(detokenize(data_words[i]))\n",
    "print(data[:5])"
   ]
  },
  {
   "cell_type": "code",
   "execution_count": 87,
   "metadata": {},
   "outputs": [],
   "source": [
    "one_hot_encoded_data = pd.get_dummies(df, columns = ['Sentiment'])"
   ]
  },
  {
   "cell_type": "code",
   "execution_count": 88,
   "metadata": {},
   "outputs": [
    {
     "name": "stdout",
     "output_type": "stream",
     "text": [
      "[[   0    0    0 ...   12  367  469]\n",
      " [   0    0    0 ... 1357  740 3424]\n",
      " [   0    0    0 ...   40   86 3426]\n",
      " ...\n",
      " [   0    0    0 ...  606 1467  126]\n",
      " [   0    0    0 ...  431    2 1052]\n",
      " [   0    0    0 ...   17    1 3245]]\n"
     ]
    }
   ],
   "source": [
    "from keras.models import Sequential\n",
    "from keras import layers\n",
    "from tensorflow.keras.optimizers import RMSprop,Adam\n",
    "from keras.preprocessing.text import Tokenizer\n",
    "from keras.preprocessing.sequence import pad_sequences\n",
    "from keras import regularizers\n",
    "from keras import backend as K\n",
    "from keras.callbacks import ModelCheckpoint\n",
    "max_words = 5000\n",
    "max_len = 200\n",
    "\n",
    "tokenizer = Tokenizer(num_words=max_words)\n",
    "tokenizer.fit_on_texts(data)\n",
    "sequences = tokenizer.texts_to_sequences(data)\n",
    "tweets = pad_sequences(sequences, maxlen=max_len)\n",
    "print(tweets)"
   ]
  },
  {
   "cell_type": "code",
   "execution_count": 89,
   "metadata": {},
   "outputs": [],
   "source": [
    "labels = one_hot_encoded_data[['Sentiment_Negative','Sentiment_Positive']]"
   ]
  },
  {
   "cell_type": "code",
   "execution_count": 90,
   "metadata": {},
   "outputs": [
    {
     "name": "stdout",
     "output_type": "stream",
     "text": [
      "1491 497 1491 497\n"
     ]
    }
   ],
   "source": [
    "X_train, X_test, y_train, y_test = train_test_split(tweets, labels, random_state=0)\n",
    "print(len(X_train),len(X_test),len(y_train),len(y_test))"
   ]
  },
  {
   "cell_type": "code",
   "execution_count": 91,
   "metadata": {},
   "outputs": [
    {
     "name": "stdout",
     "output_type": "stream",
     "text": [
      "WARNING:tensorflow:`period` argument is deprecated. Please use `save_freq` to specify the frequency in number of batches seen.\n",
      "Epoch 1/40\n",
      "47/47 [==============================] - 28s 75ms/step - loss: 0.6927 - accuracy: 0.5148 - val_loss: 0.6909 - val_accuracy: 0.5493\n",
      "\n",
      "Epoch 00001: val_accuracy improved from -inf to 0.54930, saving model to best_model1.hdf5\n",
      "Epoch 2/40\n",
      "47/47 [==============================] - 3s 57ms/step - loss: 0.6884 - accuracy: 0.5492 - val_loss: 0.6839 - val_accuracy: 0.5533\n",
      "\n",
      "Epoch 00002: val_accuracy improved from 0.54930 to 0.55332, saving model to best_model1.hdf5\n",
      "Epoch 3/40\n",
      "47/47 [==============================] - 3s 55ms/step - loss: 0.6628 - accuracy: 0.6385 - val_loss: 0.6706 - val_accuracy: 0.5956\n",
      "\n",
      "Epoch 00003: val_accuracy improved from 0.55332 to 0.59557, saving model to best_model1.hdf5\n",
      "Epoch 4/40\n",
      "47/47 [==============================] - 3s 55ms/step - loss: 0.6399 - accuracy: 0.7467 - val_loss: 0.6602 - val_accuracy: 0.5915\n",
      "\n",
      "Epoch 00004: val_accuracy did not improve from 0.59557\n",
      "Epoch 5/40\n",
      "47/47 [==============================] - 3s 59ms/step - loss: 0.5703 - accuracy: 0.7748 - val_loss: 0.6530 - val_accuracy: 0.5996\n",
      "\n",
      "Epoch 00005: val_accuracy improved from 0.59557 to 0.59960, saving model to best_model1.hdf5\n",
      "Epoch 6/40\n",
      "47/47 [==============================] - 3s 54ms/step - loss: 0.4890 - accuracy: 0.8125 - val_loss: 0.6699 - val_accuracy: 0.6217\n",
      "\n",
      "Epoch 00006: val_accuracy improved from 0.59960 to 0.62173, saving model to best_model1.hdf5\n",
      "Epoch 7/40\n",
      "47/47 [==============================] - 3s 55ms/step - loss: 0.3947 - accuracy: 0.8399 - val_loss: 0.6933 - val_accuracy: 0.6419\n",
      "\n",
      "Epoch 00007: val_accuracy improved from 0.62173 to 0.64185, saving model to best_model1.hdf5\n",
      "Epoch 8/40\n",
      "47/47 [==============================] - 3s 56ms/step - loss: 0.3244 - accuracy: 0.8823 - val_loss: 0.7319 - val_accuracy: 0.6439\n",
      "\n",
      "Epoch 00008: val_accuracy improved from 0.64185 to 0.64386, saving model to best_model1.hdf5\n",
      "Epoch 9/40\n",
      "47/47 [==============================] - 3s 54ms/step - loss: 0.2688 - accuracy: 0.8962 - val_loss: 0.7672 - val_accuracy: 0.6459\n",
      "\n",
      "Epoch 00009: val_accuracy improved from 0.64386 to 0.64588, saving model to best_model1.hdf5\n",
      "Epoch 10/40\n",
      "47/47 [==============================] - 3s 57ms/step - loss: 0.2408 - accuracy: 0.9060 - val_loss: 0.7920 - val_accuracy: 0.6398\n",
      "\n",
      "Epoch 00010: val_accuracy did not improve from 0.64588\n",
      "Epoch 11/40\n",
      "47/47 [==============================] - 3s 58ms/step - loss: 0.1844 - accuracy: 0.9306 - val_loss: 0.8754 - val_accuracy: 0.6398\n",
      "\n",
      "Epoch 00011: val_accuracy did not improve from 0.64588\n",
      "Epoch 12/40\n",
      "47/47 [==============================] - 3s 58ms/step - loss: 0.1512 - accuracy: 0.9465 - val_loss: 0.9904 - val_accuracy: 0.6318\n",
      "\n",
      "Epoch 00012: val_accuracy did not improve from 0.64588\n",
      "Epoch 13/40\n",
      "47/47 [==============================] - 3s 58ms/step - loss: 0.1504 - accuracy: 0.9453 - val_loss: 0.9991 - val_accuracy: 0.6278\n",
      "\n",
      "Epoch 00013: val_accuracy did not improve from 0.64588\n",
      "Epoch 14/40\n",
      "47/47 [==============================] - 3s 57ms/step - loss: 0.1295 - accuracy: 0.9500 - val_loss: 1.0509 - val_accuracy: 0.6137\n",
      "\n",
      "Epoch 00014: val_accuracy did not improve from 0.64588\n",
      "Epoch 15/40\n",
      "47/47 [==============================] - 3s 56ms/step - loss: 0.1004 - accuracy: 0.9568 - val_loss: 1.1215 - val_accuracy: 0.6097\n",
      "\n",
      "Epoch 00015: val_accuracy did not improve from 0.64588\n",
      "Epoch 16/40\n",
      "47/47 [==============================] - 3s 56ms/step - loss: 0.0977 - accuracy: 0.9575 - val_loss: 1.1800 - val_accuracy: 0.6298\n",
      "\n",
      "Epoch 00016: val_accuracy did not improve from 0.64588\n",
      "Epoch 17/40\n",
      "47/47 [==============================] - 3s 58ms/step - loss: 0.0782 - accuracy: 0.9791 - val_loss: 1.2754 - val_accuracy: 0.6157\n",
      "\n",
      "Epoch 00017: val_accuracy did not improve from 0.64588\n",
      "Epoch 18/40\n",
      "47/47 [==============================] - 3s 58ms/step - loss: 0.2101 - accuracy: 0.9552 - val_loss: 1.3241 - val_accuracy: 0.6117\n",
      "\n",
      "Epoch 00018: val_accuracy did not improve from 0.64588\n",
      "Epoch 19/40\n",
      "47/47 [==============================] - 3s 58ms/step - loss: 0.0444 - accuracy: 0.9859 - val_loss: 1.2222 - val_accuracy: 0.6137\n",
      "\n",
      "Epoch 00019: val_accuracy did not improve from 0.64588\n",
      "Epoch 20/40\n",
      "47/47 [==============================] - 3s 57ms/step - loss: 0.0495 - accuracy: 0.9829 - val_loss: 1.5168 - val_accuracy: 0.6097\n",
      "\n",
      "Epoch 00020: val_accuracy did not improve from 0.64588\n",
      "Epoch 21/40\n",
      "47/47 [==============================] - 3s 57ms/step - loss: 0.1923 - accuracy: 0.9654 - val_loss: 1.5095 - val_accuracy: 0.6137\n",
      "\n",
      "Epoch 00021: val_accuracy did not improve from 0.64588\n",
      "Epoch 22/40\n",
      "47/47 [==============================] - 3s 56ms/step - loss: 0.1502 - accuracy: 0.9762 - val_loss: 1.4920 - val_accuracy: 0.6137\n",
      "\n",
      "Epoch 00022: val_accuracy did not improve from 0.64588\n",
      "Epoch 23/40\n",
      "47/47 [==============================] - 3s 56ms/step - loss: 0.0382 - accuracy: 0.9890 - val_loss: 2.2643 - val_accuracy: 0.5412\n",
      "\n",
      "Epoch 00023: val_accuracy did not improve from 0.64588\n",
      "Epoch 24/40\n",
      "47/47 [==============================] - 3s 57ms/step - loss: 0.1006 - accuracy: 0.9705 - val_loss: 1.5352 - val_accuracy: 0.6117\n",
      "\n",
      "Epoch 00024: val_accuracy did not improve from 0.64588\n",
      "Epoch 25/40\n",
      "47/47 [==============================] - 3s 58ms/step - loss: 0.0261 - accuracy: 0.9927 - val_loss: 1.5883 - val_accuracy: 0.6117\n",
      "\n",
      "Epoch 00025: val_accuracy did not improve from 0.64588\n",
      "Epoch 26/40\n",
      "47/47 [==============================] - 3s 58ms/step - loss: 0.0377 - accuracy: 0.9848 - val_loss: 1.6775 - val_accuracy: 0.6097\n",
      "\n",
      "Epoch 00026: val_accuracy did not improve from 0.64588\n",
      "Epoch 27/40\n",
      "47/47 [==============================] - 3s 57ms/step - loss: 0.0214 - accuracy: 0.9926 - val_loss: 1.7876 - val_accuracy: 0.6157\n",
      "\n",
      "Epoch 00027: val_accuracy did not improve from 0.64588\n",
      "Epoch 28/40\n",
      "47/47 [==============================] - 3s 56ms/step - loss: 0.0185 - accuracy: 0.9953 - val_loss: 1.7650 - val_accuracy: 0.6197\n",
      "\n",
      "Epoch 00028: val_accuracy did not improve from 0.64588\n",
      "Epoch 29/40\n",
      "47/47 [==============================] - 3s 56ms/step - loss: 0.0220 - accuracy: 0.9918 - val_loss: 1.8539 - val_accuracy: 0.6117\n",
      "\n",
      "Epoch 00029: val_accuracy did not improve from 0.64588\n",
      "Epoch 30/40\n",
      "47/47 [==============================] - 3s 56ms/step - loss: 0.0405 - accuracy: 0.9866 - val_loss: 1.8658 - val_accuracy: 0.6097\n",
      "\n",
      "Epoch 00030: val_accuracy did not improve from 0.64588\n",
      "Epoch 31/40\n",
      "47/47 [==============================] - 3s 57ms/step - loss: 0.0556 - accuracy: 0.9872 - val_loss: 2.0109 - val_accuracy: 0.6036\n",
      "\n",
      "Epoch 00031: val_accuracy did not improve from 0.64588\n",
      "Epoch 32/40\n",
      "47/47 [==============================] - 3s 56ms/step - loss: 0.0589 - accuracy: 0.9843 - val_loss: 2.0978 - val_accuracy: 0.6097\n",
      "\n",
      "Epoch 00032: val_accuracy did not improve from 0.64588\n",
      "Epoch 33/40\n",
      "47/47 [==============================] - 3s 57ms/step - loss: 0.0080 - accuracy: 0.9970 - val_loss: 1.9546 - val_accuracy: 0.6097\n",
      "\n",
      "Epoch 00033: val_accuracy did not improve from 0.64588\n",
      "Epoch 34/40\n",
      "47/47 [==============================] - 3s 55ms/step - loss: 0.0212 - accuracy: 0.9918 - val_loss: 2.0758 - val_accuracy: 0.5996\n",
      "\n",
      "Epoch 00034: val_accuracy did not improve from 0.64588\n",
      "Epoch 35/40\n",
      "47/47 [==============================] - 3s 56ms/step - loss: 0.0304 - accuracy: 0.9930 - val_loss: 2.0212 - val_accuracy: 0.6056\n",
      "\n",
      "Epoch 00035: val_accuracy did not improve from 0.64588\n",
      "Epoch 36/40\n",
      "47/47 [==============================] - 3s 57ms/step - loss: 0.0141 - accuracy: 0.9945 - val_loss: 3.7635 - val_accuracy: 0.5010\n",
      "\n",
      "Epoch 00036: val_accuracy did not improve from 0.64588\n",
      "Epoch 37/40\n",
      "47/47 [==============================] - 3s 56ms/step - loss: 0.1281 - accuracy: 0.9723 - val_loss: 2.0961 - val_accuracy: 0.6076\n",
      "\n",
      "Epoch 00037: val_accuracy did not improve from 0.64588\n",
      "Epoch 38/40\n",
      "47/47 [==============================] - 3s 57ms/step - loss: 0.0083 - accuracy: 0.9981 - val_loss: 2.0718 - val_accuracy: 0.6157\n",
      "\n",
      "Epoch 00038: val_accuracy did not improve from 0.64588\n",
      "Epoch 39/40\n",
      "47/47 [==============================] - 3s 56ms/step - loss: 0.0054 - accuracy: 0.9984 - val_loss: 2.1673 - val_accuracy: 0.6056\n",
      "\n",
      "Epoch 00039: val_accuracy did not improve from 0.64588\n",
      "Epoch 40/40\n",
      "47/47 [==============================] - 3s 54ms/step - loss: 0.0088 - accuracy: 0.9964 - val_loss: 2.2809 - val_accuracy: 0.6197\n",
      "\n",
      "Epoch 00040: val_accuracy did not improve from 0.64588\n"
     ]
    }
   ],
   "source": [
    "model1 = Sequential()\n",
    "model1.add(layers.Embedding(max_words, 20))\n",
    "model1.add(layers.LSTM(15,dropout=0.5))\n",
    "model1.add(layers.Dense(2,activation='softmax'))\n",
    "\n",
    "model1.compile(optimizer='rmsprop',loss='categorical_crossentropy', metrics=['accuracy'])\n",
    "#Implementing model checkpoins to save the best metric and do not lose it on training.\n",
    "checkpoint1 = ModelCheckpoint(\"best_model1.hdf5\", monitor='val_accuracy', verbose=1,save_best_only=True, mode='auto', period=1,save_weights_only=False)\n",
    "history = model1.fit(X_train, y_train, epochs=40,validation_data=(X_test, y_test),callbacks=[checkpoint1])"
   ]
  },
  {
   "cell_type": "code",
   "execution_count": 92,
   "metadata": {},
   "outputs": [
    {
     "name": "stdout",
     "output_type": "stream",
     "text": [
      "WARNING:tensorflow:`period` argument is deprecated. Please use `save_freq` to specify the frequency in number of batches seen.\n",
      "Epoch 1/40\n",
      "47/47 [==============================] - 9s 90ms/step - loss: 0.6936 - accuracy: 0.5229 - val_loss: 0.6910 - val_accuracy: 0.5453\n",
      "\n",
      "Epoch 00001: val_accuracy improved from -inf to 0.54527, saving model to best_model2.hdf5\n",
      "Epoch 2/40\n",
      "47/47 [==============================] - 4s 87ms/step - loss: 0.6882 - accuracy: 0.5305 - val_loss: 0.6879 - val_accuracy: 0.5755\n",
      "\n",
      "Epoch 00002: val_accuracy improved from 0.54527 to 0.57545, saving model to best_model2.hdf5\n",
      "Epoch 3/40\n",
      "47/47 [==============================] - 4s 88ms/step - loss: 0.6655 - accuracy: 0.6514 - val_loss: 0.6729 - val_accuracy: 0.5956\n",
      "\n",
      "Epoch 00003: val_accuracy improved from 0.57545 to 0.59557, saving model to best_model2.hdf5\n",
      "Epoch 4/40\n",
      "47/47 [==============================] - 4s 81ms/step - loss: 0.6023 - accuracy: 0.7130 - val_loss: 0.6525 - val_accuracy: 0.6157\n",
      "\n",
      "Epoch 00004: val_accuracy improved from 0.59557 to 0.61569, saving model to best_model2.hdf5\n",
      "Epoch 5/40\n",
      "47/47 [==============================] - 4s 81ms/step - loss: 0.5114 - accuracy: 0.7997 - val_loss: 0.6633 - val_accuracy: 0.6217\n",
      "\n",
      "Epoch 00005: val_accuracy improved from 0.61569 to 0.62173, saving model to best_model2.hdf5\n",
      "Epoch 6/40\n",
      "47/47 [==============================] - 4s 79ms/step - loss: 0.4135 - accuracy: 0.8241 - val_loss: 0.6958 - val_accuracy: 0.6439\n",
      "\n",
      "Epoch 00006: val_accuracy improved from 0.62173 to 0.64386, saving model to best_model2.hdf5\n",
      "Epoch 7/40\n",
      "47/47 [==============================] - 4s 80ms/step - loss: 0.3045 - accuracy: 0.8824 - val_loss: 0.7288 - val_accuracy: 0.6439\n",
      "\n",
      "Epoch 00007: val_accuracy did not improve from 0.64386\n",
      "Epoch 8/40\n",
      "47/47 [==============================] - 4s 81ms/step - loss: 0.3000 - accuracy: 0.8666 - val_loss: 0.7968 - val_accuracy: 0.6157\n",
      "\n",
      "Epoch 00008: val_accuracy did not improve from 0.64386\n",
      "Epoch 9/40\n",
      "47/47 [==============================] - 4s 82ms/step - loss: 0.2483 - accuracy: 0.9077 - val_loss: 0.8422 - val_accuracy: 0.6338\n",
      "\n",
      "Epoch 00009: val_accuracy did not improve from 0.64386\n",
      "Epoch 10/40\n",
      "47/47 [==============================] - 4s 80ms/step - loss: 0.1929 - accuracy: 0.9178 - val_loss: 0.8674 - val_accuracy: 0.6338\n",
      "\n",
      "Epoch 00010: val_accuracy did not improve from 0.64386\n",
      "Epoch 11/40\n",
      "47/47 [==============================] - 4s 81ms/step - loss: 0.1612 - accuracy: 0.9429 - val_loss: 0.9110 - val_accuracy: 0.6318\n",
      "\n",
      "Epoch 00011: val_accuracy did not improve from 0.64386\n",
      "Epoch 12/40\n",
      "47/47 [==============================] - 4s 83ms/step - loss: 0.1502 - accuracy: 0.9464 - val_loss: 0.9743 - val_accuracy: 0.6157\n",
      "\n",
      "Epoch 00012: val_accuracy did not improve from 0.64386\n",
      "Epoch 13/40\n",
      "47/47 [==============================] - 4s 82ms/step - loss: 0.1118 - accuracy: 0.9610 - val_loss: 1.0220 - val_accuracy: 0.6036\n",
      "\n",
      "Epoch 00013: val_accuracy did not improve from 0.64386\n",
      "Epoch 14/40\n",
      "47/47 [==============================] - 4s 82ms/step - loss: 0.0956 - accuracy: 0.9712 - val_loss: 1.2438 - val_accuracy: 0.6097\n",
      "\n",
      "Epoch 00014: val_accuracy did not improve from 0.64386\n",
      "Epoch 15/40\n",
      "47/47 [==============================] - 4s 84ms/step - loss: 0.1044 - accuracy: 0.9588 - val_loss: 1.1960 - val_accuracy: 0.5956\n",
      "\n",
      "Epoch 00015: val_accuracy did not improve from 0.64386\n",
      "Epoch 16/40\n",
      "47/47 [==============================] - 4s 83ms/step - loss: 0.0736 - accuracy: 0.9761 - val_loss: 1.2767 - val_accuracy: 0.6217\n",
      "\n",
      "Epoch 00016: val_accuracy did not improve from 0.64386\n",
      "Epoch 17/40\n",
      "47/47 [==============================] - 4s 81ms/step - loss: 0.0631 - accuracy: 0.9763 - val_loss: 1.2917 - val_accuracy: 0.5996\n",
      "\n",
      "Epoch 00017: val_accuracy did not improve from 0.64386\n",
      "Epoch 18/40\n",
      "47/47 [==============================] - 4s 82ms/step - loss: 0.0631 - accuracy: 0.9771 - val_loss: 1.4945 - val_accuracy: 0.6137\n",
      "\n",
      "Epoch 00018: val_accuracy did not improve from 0.64386\n",
      "Epoch 19/40\n",
      "47/47 [==============================] - 4s 83ms/step - loss: 0.0616 - accuracy: 0.9777 - val_loss: 1.3602 - val_accuracy: 0.6016\n",
      "\n",
      "Epoch 00019: val_accuracy did not improve from 0.64386\n",
      "Epoch 20/40\n",
      "47/47 [==============================] - 4s 83ms/step - loss: 0.0564 - accuracy: 0.9734 - val_loss: 1.6223 - val_accuracy: 0.5956\n",
      "\n",
      "Epoch 00020: val_accuracy did not improve from 0.64386\n",
      "Epoch 21/40\n",
      "47/47 [==============================] - 4s 82ms/step - loss: 0.0699 - accuracy: 0.9801 - val_loss: 1.5108 - val_accuracy: 0.6076\n",
      "\n",
      "Epoch 00021: val_accuracy did not improve from 0.64386\n",
      "Epoch 22/40\n",
      "47/47 [==============================] - 4s 81ms/step - loss: 0.0464 - accuracy: 0.9843 - val_loss: 1.5687 - val_accuracy: 0.5976\n",
      "\n",
      "Epoch 00022: val_accuracy did not improve from 0.64386\n",
      "Epoch 23/40\n",
      "47/47 [==============================] - 4s 82ms/step - loss: 0.0463 - accuracy: 0.9816 - val_loss: 1.5758 - val_accuracy: 0.6076\n",
      "\n",
      "Epoch 00023: val_accuracy did not improve from 0.64386\n",
      "Epoch 24/40\n",
      "47/47 [==============================] - 4s 82ms/step - loss: 0.0352 - accuracy: 0.9874 - val_loss: 1.7825 - val_accuracy: 0.6117\n",
      "\n",
      "Epoch 00024: val_accuracy did not improve from 0.64386\n",
      "Epoch 25/40\n",
      "47/47 [==============================] - 4s 82ms/step - loss: 0.0296 - accuracy: 0.9871 - val_loss: 1.6148 - val_accuracy: 0.6117\n",
      "\n",
      "Epoch 00025: val_accuracy did not improve from 0.64386\n",
      "Epoch 26/40\n",
      "47/47 [==============================] - 4s 81ms/step - loss: 0.0380 - accuracy: 0.9923 - val_loss: 1.7341 - val_accuracy: 0.6016\n",
      "\n",
      "Epoch 00026: val_accuracy did not improve from 0.64386\n",
      "Epoch 27/40\n",
      "47/47 [==============================] - 4s 82ms/step - loss: 0.0299 - accuracy: 0.9896 - val_loss: 1.8675 - val_accuracy: 0.5976\n",
      "\n",
      "Epoch 00027: val_accuracy did not improve from 0.64386\n",
      "Epoch 28/40\n",
      "47/47 [==============================] - 4s 81ms/step - loss: 0.0226 - accuracy: 0.9921 - val_loss: 1.9996 - val_accuracy: 0.5976\n",
      "\n",
      "Epoch 00028: val_accuracy did not improve from 0.64386\n",
      "Epoch 29/40\n",
      "47/47 [==============================] - 4s 82ms/step - loss: 0.0230 - accuracy: 0.9920 - val_loss: 1.9691 - val_accuracy: 0.6056\n",
      "\n",
      "Epoch 00029: val_accuracy did not improve from 0.64386\n",
      "Epoch 30/40\n",
      "47/47 [==============================] - 4s 81ms/step - loss: 0.0291 - accuracy: 0.9916 - val_loss: 2.0215 - val_accuracy: 0.6016\n",
      "\n",
      "Epoch 00030: val_accuracy did not improve from 0.64386\n",
      "Epoch 31/40\n",
      "47/47 [==============================] - 4s 82ms/step - loss: 0.0174 - accuracy: 0.9949 - val_loss: 2.2150 - val_accuracy: 0.5915\n",
      "\n",
      "Epoch 00031: val_accuracy did not improve from 0.64386\n",
      "Epoch 32/40\n",
      "47/47 [==============================] - 4s 82ms/step - loss: 0.0319 - accuracy: 0.9932 - val_loss: 2.0172 - val_accuracy: 0.6056\n",
      "\n",
      "Epoch 00032: val_accuracy did not improve from 0.64386\n",
      "Epoch 33/40\n",
      "47/47 [==============================] - 4s 82ms/step - loss: 0.0155 - accuracy: 0.9946 - val_loss: 2.0981 - val_accuracy: 0.6076\n",
      "\n",
      "Epoch 00033: val_accuracy did not improve from 0.64386\n",
      "Epoch 34/40\n",
      "47/47 [==============================] - 4s 85ms/step - loss: 0.0137 - accuracy: 0.9958 - val_loss: 2.2841 - val_accuracy: 0.5976\n",
      "\n",
      "Epoch 00034: val_accuracy did not improve from 0.64386\n",
      "Epoch 35/40\n",
      "47/47 [==============================] - 4s 83ms/step - loss: 0.0079 - accuracy: 0.9978 - val_loss: 2.3272 - val_accuracy: 0.5976\n",
      "\n",
      "Epoch 00035: val_accuracy did not improve from 0.64386\n",
      "Epoch 36/40\n",
      "47/47 [==============================] - 4s 82ms/step - loss: 0.0059 - accuracy: 0.9969 - val_loss: 2.5675 - val_accuracy: 0.5976\n",
      "\n",
      "Epoch 00036: val_accuracy did not improve from 0.64386\n",
      "Epoch 37/40\n",
      "47/47 [==============================] - 4s 81ms/step - loss: 0.0517 - accuracy: 0.9913 - val_loss: 2.3519 - val_accuracy: 0.5855\n",
      "\n",
      "Epoch 00037: val_accuracy did not improve from 0.64386\n",
      "Epoch 38/40\n",
      "47/47 [==============================] - 4s 83ms/step - loss: 0.0097 - accuracy: 0.9952 - val_loss: 2.3771 - val_accuracy: 0.6137\n",
      "\n",
      "Epoch 00038: val_accuracy did not improve from 0.64386\n",
      "Epoch 39/40\n",
      "47/47 [==============================] - 4s 81ms/step - loss: 0.0094 - accuracy: 0.9972 - val_loss: 2.4854 - val_accuracy: 0.6016\n",
      "\n",
      "Epoch 00039: val_accuracy did not improve from 0.64386\n",
      "Epoch 40/40\n",
      "47/47 [==============================] - 4s 83ms/step - loss: 0.0111 - accuracy: 0.9943 - val_loss: 2.4526 - val_accuracy: 0.5996\n",
      "\n",
      "Epoch 00040: val_accuracy did not improve from 0.64386\n"
     ]
    }
   ],
   "source": [
    "model2 = Sequential()\n",
    "model2.add(layers.Embedding(max_words, 40, input_length=max_len))\n",
    "model2.add(layers.Bidirectional(layers.LSTM(20,dropout=0.6)))\n",
    "model2.add(layers.Dense(2,activation='softmax'))\n",
    "model2.compile(optimizer='rmsprop',loss='categorical_crossentropy', metrics=['accuracy'])\n",
    "#Implementing model checkpoins to save the best metric and do not lose it on training.\n",
    "checkpoint2 = ModelCheckpoint(\"best_model2.hdf5\", monitor='val_accuracy', verbose=1,save_best_only=True, mode='auto', period=1,save_weights_only=False)\n",
    "history = model2.fit(X_train, y_train, epochs=40,validation_data=(X_test, y_test),callbacks=[checkpoint2])"
   ]
  },
  {
   "cell_type": "code",
   "execution_count": null,
   "metadata": {},
   "outputs": [],
   "source": []
  },
  {
   "cell_type": "code",
   "execution_count": null,
   "metadata": {},
   "outputs": [],
   "source": []
  },
  {
   "cell_type": "code",
   "execution_count": null,
   "metadata": {},
   "outputs": [],
   "source": []
  }
 ],
 "metadata": {
  "kernelspec": {
   "display_name": "Python 3",
   "language": "python",
   "name": "python3"
  },
  "language_info": {
   "codemirror_mode": {
    "name": "ipython",
    "version": 3
   },
   "file_extension": ".py",
   "mimetype": "text/x-python",
   "name": "python",
   "nbconvert_exporter": "python",
   "pygments_lexer": "ipython3",
   "version": "3.8.8"
  }
 },
 "nbformat": 4,
 "nbformat_minor": 2
}
